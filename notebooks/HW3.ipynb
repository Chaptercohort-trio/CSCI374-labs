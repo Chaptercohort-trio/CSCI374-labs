{
 "cells": [
  {
   "cell_type": "markdown",
   "metadata": {},
   "source": [
    "# Recursive Functions\n",
    "\n",
    " \n",
    "***Student Name:*** *put your name here*\n",
    "           \n",
    "    \n",
    "## Submission\n",
    "\n",
    "After answering all the questions, save your work in **PDF** format file\n",
    "    \n",
    "- Double-click on this cell\n",
    "- Enter your name in the above placeholder, and evaluate this cell to render it correctly\n",
    "- Evaluate all cells in the notebook by selecting the option **\"Run all\"** from the **Cell** menu.\n",
    "- Save your work by pressing <span class=\"fa-save fa\"/> button in the toolbar\n",
    "- Go to menu \"File\" -> \"Download as\"\n",
    "- Select \"PDF via Latex (.pdf)\"\n",
    "- Use downloaded file for Blackboard submission \n",
    "\n",
    "For more information, see https://www.codecademy.com/articles/how-to-use-jupyter-notebooks\n",
    "\n",
    "### Coding Style\n",
    "\n",
    "- Use functional F# style for writing your programs.\n",
    "- Make sure that you do not use mutable variables & loops.\n",
    "- Any imperative style programming is prohibited unless specified in the problem description.\n",
    "\n",
    "For additional information of F# coding style see [F# Style Guide](https://docs.microsoft.com/en-us/dotnet/fsharp/style-guide/).\n",
    "\n",
    "### Before You Submit\n",
    "\n",
    "You are required to test that your submission works properly before submission. Make sure that your program compiles without errors. Once you have verified that the submission is correct, you can submit your work.\n",
    "\n",
    "### Your Submission\n",
    "\n",
    "Program submissions should be done through the Blackboard.\n",
    "    "
   ]
  },
  {
   "cell_type": "markdown",
   "metadata": {},
   "source": [
    "<span style=\"color:red; font-size: large;\">DO NOT USE LOOPS!!! ONLY RECURSION IS ALLOWED.</span>\n"
   ]
  },
  {
   "cell_type": "markdown",
   "metadata": {},
   "source": [
    "## Problems"
   ]
  },
  {
   "cell_type": "markdown",
   "metadata": {},
   "source": [
    "### Problem 1\n",
    "\n",
    "Write the function `power_of_2` which takes an arbitrary real number $p$, and returns `true` if the numeber is equals to some power of 2, i.e. $p = 2^n$ for some $n$.\n",
    "\n",
    "Your task is to implement a recursive function `power_of_2` withount using loops and standard library functions."
   ]
  },
  {
   "cell_type": "code",
   "execution_count": null,
   "metadata": {},
   "outputs": [],
   "source": [
    "let rec power_of_2 (p:float) =\n",
    "    // write your solution here"
   ]
  },
  {
   "cell_type": "markdown",
   "metadata": {},
   "source": [
    "*Test your function:*"
   ]
  },
  {
   "cell_type": "code",
   "execution_count": null,
   "metadata": {},
   "outputs": [],
   "source": [
    "List.map (fun i -> (i, power_of_2 i)) [1.0 .. 18.0]"
   ]
  },
  {
   "cell_type": "markdown",
   "metadata": {},
   "source": [
    "### Problem 2\n",
    "\n",
    "Write the function `sumdigits` which takes an arbitrary positive integer number $n$, and returns the sum of its digits.\n",
    "\n",
    "Your task is to implement a recursive function `sumdigits` withount using loops and standard library functions."
   ]
  },
  {
   "cell_type": "code",
   "execution_count": null,
   "metadata": {},
   "outputs": [],
   "source": [
    "let rec sumdigits n =\n",
    "    // write your solution here"
   ]
  },
  {
   "cell_type": "markdown",
   "metadata": {},
   "source": [
    "*Test your function:*"
   ]
  },
  {
   "cell_type": "code",
   "execution_count": null,
   "metadata": {},
   "outputs": [],
   "source": [
    "sumdigits 5 // 5"
   ]
  },
  {
   "cell_type": "code",
   "execution_count": null,
   "metadata": {},
   "outputs": [],
   "source": [
    "sumdigits 308473 // 25"
   ]
  },
  {
   "cell_type": "code",
   "execution_count": null,
   "metadata": {},
   "outputs": [],
   "source": [
    "sumdigits 2387387 // 38"
   ]
  },
  {
   "cell_type": "markdown",
   "metadata": {},
   "source": [
    "*Test your function:*"
   ]
  },
  {
   "cell_type": "markdown",
   "metadata": {},
   "source": [
    "### Problem 3\n",
    "\n",
    "In this assignment, you will write a program calculates [Tetranacci numbers](http://mathworld.wolfram.com/TetranacciNumber.html).\n",
    "\n",
    "#### Problem 3.1\n",
    "\n",
    "The formula for the `n`th Tetranacci number $T_n$ is defined as follows:\n",
    "\n",
    "$$T_0 = 0$$\n",
    "$$T_1 = 1$$\n",
    "$$T_2 = 1$$\n",
    "$$T_3 = 2$$\n",
    "$$T_n = T_{n-1} + T_{n-2} + T_{n-3} + T_{n-4}$$\n",
    "\n",
    "Your task is to implement a recursive function `tetrn` which accepts an integer n (you may assume that `n >= 0`), and computes the n-th Tetranacci number (don’t worry about efficiency, only about making the definition as simple as possible).\n"
   ]
  },
  {
   "cell_type": "code",
   "execution_count": null,
   "metadata": {},
   "outputs": [],
   "source": [
    "let rec tetrn n =\n",
    "    // write your solution here"
   ]
  },
  {
   "cell_type": "markdown",
   "metadata": {},
   "source": [
    "*Test your function:*"
   ]
  },
  {
   "cell_type": "code",
   "execution_count": null,
   "metadata": {},
   "outputs": [],
   "source": [
    "tetrn 33 = 747044834 // takes some time to compute"
   ]
  },
  {
   "cell_type": "markdown",
   "metadata": {},
   "source": [
    "#### Problem 3.2\n",
    "\n",
    "A more efficient version of the function for computing Tetranacci numbers can be defined by following three steps:\n",
    "\n",
    "1. Implement a function which takes a list of integers and adds the sum of the top four elements to the head of the list (e.g., in F#, 1::1::1::1::[] should become 4::1::1::1::1::[]).\n",
    "2. Implement a recursive function which computes the `n`th Tetranacci number in linear time. This function may use a linear amount of space to compute its result, but the\n",
    "number of recursive calls it makes must be linear in `n`.\n",
    "\n",
    "Your task is to follow the three steps above, in order to implement the recursive function `tetrn2` in F#.\n",
    "\n",
    "- *Hint:* Try to define auxiliary functions first before taking on main function. You do not have to use auxiliary functions in your `tetrn2`, but they provide an insight on how to implement the `tetrn2` function."
   ]
  },
  {
   "cell_type": "code",
   "execution_count": null,
   "metadata": {
    "scrolled": true
   },
   "outputs": [],
   "source": [
    "// Problem 3.2.1\n",
    "let append4Sum xs =\n",
    "    // write your solution here\n",
    "\n",
    "// Problem 3.2.2\n",
    "let tetrn2 n =\n",
    "    // write your solution here"
   ]
  },
  {
   "cell_type": "markdown",
   "metadata": {},
   "source": [
    "*Test your function:*"
   ]
  },
  {
   "cell_type": "code",
   "execution_count": null,
   "metadata": {},
   "outputs": [],
   "source": [
    "tetrn2 33 = 747044834 // this is fast compare to `tetrn 33` call"
   ]
  },
  {
   "cell_type": "markdown",
   "metadata": {},
   "source": [
    "## Performance Comparison\n",
    "\n",
    "See the difference in the performance calls of `tetrn` & `tetrn2` functions.\n",
    "\n",
    "```\n",
    "> tetrn 33;;\n",
    "Real: 00:00:03.381, CPU: 00:00:03.400, GC gen0: 0, gen1: 0, gen2: 0\n",
    "val it : int = 747044834\n",
    "\n",
    "> tetrn2 33;;\n",
    "Real: 00:00:00.001, CPU: 00:00:00.000, GC gen0: 0, gen1: 0, gen2: 0\n",
    "val it : int = 747044834\n",
    "```"
   ]
  }
 ],
 "metadata": {
  "kernelspec": {
   "display_name": ".NET (F#)",
   "language": "F#",
   "name": ".net-fsharp"
  },
  "language_info": {
   "file_extension": ".fs",
   "mimetype": "text/x-fsharp",
   "name": "C#",
   "pygments_lexer": "fsharp",
   "version": "4.5"
  }
 },
 "nbformat": 4,
 "nbformat_minor": 4
}
