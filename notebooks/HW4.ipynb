{
 "cells": [
  {
   "cell_type": "markdown",
   "metadata": {},
   "source": [
    "# Mandelbrot Set\n",
    "\n",
    " \n",
    "***Student Name:*** <put your name here>\n",
    "    \n",
    "---        \n",
    "    \n",
    "## Submission\n",
    "\n",
    "After answering all the questions, save your work in **both** *Notebook* and *PDF* formats\n",
    "    \n",
    "- Double-click on this cell\n",
    "- Enter your name in the above placeholder, and evaluate this cell to render it correctly\n",
    "- Evaluate all cells in the notebook by selecting the option **\"Run all\"** from the **Cell** menu.\n",
    "- Save your work by pressing <span class=\"fa-save fa\"/> button in the toolbar\n",
    "- Go to menu \"File\" -> \"Download as\"\n",
    "    - Select \"PDF via Latex (.pdf)\"\n",
    "    - Select \"Notebook (.ipynb)\"\n",
    "- Use downloaded files for Blackboard submission \n",
    "\n",
    "For more information, see https://www.codecademy.com/articles/how-to-use-jupyter-notebooks\n",
    "\n",
    "### Coding Style\n",
    "\n",
    "- Use functional F# style for writing your programs.\n",
    "- Make sure that you do not use mutable variables & loops.\n",
    "- Any imperative style programming is prohibited unless specified in the problem description.\n",
    "\n",
    "For additional information of F# coding style see [F# Style Guide](https://docs.microsoft.com/en-us/dotnet/fsharp/style-guide/).\n",
    "\n",
    "### Before You Submit\n",
    "\n",
    "You are required to test that your submission works properly before submission. Make sure that your program compiles without errors. Once you have verified that the submission is correct, you can submit your work.\n",
    "\n",
    "### Your Submission\n",
    "\n",
    "Program submissions should be done through the Blackboard.\n",
    "    \n",
    "---"
   ]
  },
  {
   "cell_type": "markdown",
   "metadata": {},
   "source": [
    "<span style=\"color:red; font-size: large;\">DO NOT USE LOOPS!!! ONLY RECURSION IS ALLOWED.</span>\n",
    "\n",
    "List of allowed functions:\n",
    "- `List.head`\n",
    "- `List.tail`\n",
    "- `List.isEmpty`\n",
    "- `::` operator\n",
    "\n",
    "Try to use pattern matching expressions as much as possible.\n",
    "\n",
    "---"
   ]
  },
  {
   "cell_type": "markdown",
   "metadata": {},
   "source": [
    "## Problems\n",
    "\n",
    "In this assignment, you will write a program that plot ASCII text approximations of the [Mandelbrot set](https://en.wikipedia.org/wiki/Mandelbrot_set).\n",
    "\n",
    "<a title=\"Created by Wolfgang Beyer with the program Ultra Fractal 3. / CC BY-SA (http://creativecommons.org/licenses/by-sa/3.0/)\" href=\"https://commons.wikimedia.org/wiki/File:Mandel_zoom_00_mandelbrot_set.PNG\"><img width=\"256\" alt=\"Mandel zoom 00 mandelbrot set\" src=\"https://upload.wikimedia.org/wikipedia/commons/thumb/1/12/Mandel_zoom_00_mandelbrot_set.PNG/256px-Mandel_zoom_00_mandelbrot_set.PNG\"></a>\n",
    "\n"
   ]
  },
  {
   "cell_type": "markdown",
   "metadata": {},
   "source": [
    "### Problem 1\n",
    "\n",
    "Consider the function $P_{(x,y)}$ defined as follows:\n",
    "\n",
    "$$P_{(x,y)} (u, v) = (u^2 − v^2 + x, 2uv + y)$$\n",
    "\n",
    "We define the orbit $O(x, y)$ of a point $(x, y)$ to be an infinite list of items:\n",
    "\n",
    "$$O(x, y) = \\{(0, 0), P_{(x,y)}(0, 0), P_{(x,y)}(P_{(x,y)}(0, 0)), P_{(x,y)}(P_{(x,y)}(P_{(x,y)}(0, 0))), \\ldots \\}$$\n",
    "\n",
    "In other words, the nth entry of the list $O(x, y)$ is the $P_{(x,y)}$ function composed with itself n times and then applied to $(0, 0)$.\n",
    "\n",
    "Define a F# function `orbit` that takes a single point as a tuple of floating point numbers, $(x,y)$, and index $i$ as an arguments and returns an $i^{th}$ element of the infinite list corresponding to $O(x,y)$.\n",
    "\n",
    "- You may want to define a helper function corresponding to $P_{(x,y)}$."
   ]
  },
  {
   "cell_type": "code",
   "execution_count": null,
   "metadata": {},
   "outputs": [],
   "source": [
    "// define your auxiliary functions here    \n",
    "let rec orbit (x,y) i =\n",
    "    // write your solution here"
   ]
  },
  {
   "cell_type": "markdown",
   "metadata": {},
   "source": [
    "*Test your function:*"
   ]
  },
  {
   "cell_type": "code",
   "execution_count": null,
   "metadata": {},
   "outputs": [],
   "source": [
    "orbit (0.0,1.0) 0 // (0.0, 0.0)"
   ]
  },
  {
   "cell_type": "code",
   "execution_count": null,
   "metadata": {},
   "outputs": [],
   "source": [
    "orbit (0.0,1.0) 1 // (0.0, 1.0)"
   ]
  },
  {
   "cell_type": "code",
   "execution_count": null,
   "metadata": {},
   "outputs": [],
   "source": [
    "orbit (0.0,1.0) 2 // (-1.0, 1.0)"
   ]
  },
  {
   "cell_type": "code",
   "execution_count": null,
   "metadata": {},
   "outputs": [],
   "source": [
    "orbit (0.0,1.0) 3 // (0.0, -1.0)"
   ]
  },
  {
   "cell_type": "code",
   "execution_count": null,
   "metadata": {},
   "outputs": [],
   "source": [
    "orbit (1.0,1.0) 5 // (-9407.0, -193.0)"
   ]
  },
  {
   "cell_type": "markdown",
   "metadata": {},
   "source": [
    "### Problem 2\n",
    "\n",
    "Define a recursive function `disp` that takes two arguments:\n",
    "\n",
    "- a number `d`, and\n",
    "- a list of tuples `pairs`.\n",
    "\n",
    "Every tuple in this input list consists of a number followed by a character, and\n",
    "you can assume the input list is always in ascending order. For example, a possible\n",
    "input list might be:\n",
    "\n",
    "```fsharp\n",
    "[(0.15, '#'), (0.5, 'x'), (1.0, '.')]\n",
    "```\n",
    "\n",
    "The function `disp` should return the character from the list that corresponds\n",
    "to the **smallest number** on the list that is greater than the input `d`, and\n",
    "if `d` is  larger than all the number in the list, `disp` should return a space\n",
    "character, ' '."
   ]
  },
  {
   "cell_type": "code",
   "execution_count": null,
   "metadata": {},
   "outputs": [],
   "source": [
    "let disp xs (d:float) =\n",
    "    // write your solution here"
   ]
  },
  {
   "cell_type": "markdown",
   "metadata": {},
   "source": [
    "*Test your function:*"
   ]
  },
  {
   "cell_type": "code",
   "execution_count": null,
   "metadata": {},
   "outputs": [],
   "source": [
    "let pairs = [(0.15, '#'); (0.5, 'x'); (1.0, '.')]\n",
    "pairs"
   ]
  },
  {
   "cell_type": "code",
   "execution_count": null,
   "metadata": {},
   "outputs": [],
   "source": [
    "disp pairs 0.01 // #"
   ]
  },
  {
   "cell_type": "code",
   "execution_count": null,
   "metadata": {},
   "outputs": [],
   "source": [
    "disp pairs 0.4 // x"
   ]
  },
  {
   "cell_type": "code",
   "execution_count": null,
   "metadata": {},
   "outputs": [],
   "source": [
    "disp pairs 100.0 // space"
   ]
  },
  {
   "cell_type": "markdown",
   "metadata": {},
   "source": [
    "### Problem 3\n",
    "\n",
    "Define a function `split` that takes a positive integer `n`, an element `y`, and a list `xs`.\n",
    "- The function should insert the specified element `y` after every `n` elements in the list `xs`.\n",
    "- This function should work even when applied to infinite lists."
   ]
  },
  {
   "cell_type": "code",
   "execution_count": null,
   "metadata": {},
   "outputs": [],
   "source": [
    "let split n y xs =\n",
    "    // write your solution here"
   ]
  },
  {
   "cell_type": "markdown",
   "metadata": {},
   "source": [
    "*Test your function:*"
   ]
  },
  {
   "cell_type": "code",
   "execution_count": null,
   "metadata": {},
   "outputs": [],
   "source": [
    "split 3 '#' ['a'..'g']"
   ]
  },
  {
   "cell_type": "code",
   "execution_count": null,
   "metadata": {},
   "outputs": [],
   "source": [
    "split 2 9 [0 .. 7]"
   ]
  },
  {
   "cell_type": "markdown",
   "metadata": {},
   "source": [
    "### Problem 4\n",
    "\n",
    "One way to approximate the Mandelbrot set is to consider a certain element within the orbit of every point on the plane (such as the 12th element) and to check whether that element is within a a certain distance from the origin; if it is within this distance, then a non-blank character should be printed, else it should be left blank.\n",
    "\n",
    "You should use the following function to calculate distances of points from the origin:\n",
    "\n",
    "```fsharp\n",
    "let norm (x,y) = x*x + y*y\n",
    "```\n",
    "These distance values can then be used with `disp` and `orbit` to turn points on the plane into appropriate ASCII characters within an ASCII plot of the Mandelbrot set.\n",
    "\n",
    "Define a function `mandelbrot` that takes two arguments:\n",
    "\n",
    "- the resolution of the approximation, `r` (used with the `plane` function), and\n",
    "- the index of the elements, `i`, to check in the orbit lists of the points\n",
    "\n",
    "This function should return a list of characters that corresponds to a picture approximating the shape of the Mandelbrot set on the plane.\n",
    "\n",
    "You will need to combine the `split`, `plane`, `disp`, and `orbit` functions appropriately; list comprehensions are allowed.\n",
    "\n",
    "- Take a point from the plain, generated by the `plain` function, and calculate its orbit\n",
    "- Then, find a norm of the orbit coordinate and determine a character for the norm value using `disp` function. Use `disp_symbols` as the first parameter to `disp` function\n",
    "- Repeat the above for every point in the plain and construct the list of characters\n",
    "- Split the character list with a new line symbol, `\\n`, for correct representation of the Mandelbrot set\n",
    "- Pass list of characters to the `str` function to form a string.\n",
    "\n",
    "Once you’ve defined the function `mandelbrot`, you can generate an ASCII version of an approximation of the Mandelbrot set by evaluating the expression:\n",
    "\n",
    "```fsharp\n",
    "mandelbrot 14 12 |> printfn \"%s\";;\n",
    "```\n",
    "\n",
    "The result of the above call is following:\n",
    "\n",
    "```\n",
    "############                        #######\n",
    "##########                           ######\n",
    "########                  ##          #####\n",
    "#######                  ###.          ####\n",
    "#####                    ###           ####\n",
    "####                +  .+x##+.+         ###\n",
    "###                 #x++xx#xx++.##      ###\n",
    "##                  +xxxxxxxxxx##       ###\n",
    "#                  x##xxx####xxxx+       ##\n",
    "                  x+xxx########xx++      ##\n",
    "            # #x  ++xx##########xx       ##\n",
    "            ##### +xxx##########x#+      ##\n",
    "           ######xxxx###########x+       ##\n",
    "         #########xxx###########xx       ##\n",
    " #+# x++###########xx###########.          \n",
    "         #########xxx###########xx       ##\n",
    "           ######xxxx###########x+       ##\n",
    "            ##### +xxx##########x#+      ##\n",
    "            # #x  ++xx##########xx       ##\n",
    "                  x+xxx########xx++      ##\n",
    "#                  x##xxx####xxxx+       ##\n",
    "##                  +xxxxxxxxxx##       ###\n",
    "###                 #x++xx#xx++.##      ###\n",
    "####                +  .+x##+.+         ###\n",
    "#####                    ###           ####\n",
    "#######                  ###.          ####\n",
    "########                  ##          #####\n",
    "##########                           ######\n",
    "############                        #######\n",
    "```"
   ]
  },
  {
   "cell_type": "code",
   "execution_count": null,
   "metadata": {},
   "outputs": [],
   "source": [
    "let mandelbrot r i =\n",
    "    // some auxiliary definitions\n",
    "    let disp_symbols = [(0.05, '#'); (0.15, '@'); (0.35, 'x'); (0.65, '+'); (1.0, '.')]\n",
    "    let str chs = List.fold (fun str x -> str + x.ToString()) \"\" chs\n",
    "    let norm (x,y) :float = x*x + y*y\n",
    "    let plane r = \n",
    "        let rf = float r\n",
    "        [for y in -1.0 .. 1.0/rf .. 1.0 do\n",
    "            for x in -2.0 .. 1.0/rf .. 1.0 do\n",
    "                yield (x, y)]\n",
    "\n",
    "    // define your auxiliary functions here    \n",
    "    ...\n",
    "\n",
    "    // write your mandelbrot function solution\n",
    "    ..."
   ]
  },
  {
   "cell_type": "markdown",
   "metadata": {},
   "source": [
    "*Test your function:*"
   ]
  },
  {
   "cell_type": "code",
   "execution_count": null,
   "metadata": {},
   "outputs": [],
   "source": [
    "mandelbrot 17 12"
   ]
  }
 ],
 "metadata": {
  "kernelspec": {
   "display_name": ".NET (F#)",
   "language": "F#",
   "name": ".net-fsharp"
  },
  "language_info": {
   "file_extension": ".fs",
   "mimetype": "text/x-fsharp",
   "name": "C#",
   "pygments_lexer": "fsharp",
   "version": "4.5"
  }
 },
 "nbformat": 4,
 "nbformat_minor": 4
}
