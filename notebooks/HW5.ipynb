{
 "cells": [
  {
   "cell_type": "markdown",
   "metadata": {},
   "source": [
    "# Recursive Data Types\n",
    " \n",
    "***Student Name:*** put your name here\n",
    "    \n",
    "    \n",
    "## Submission\n",
    "\n",
    "After answering all the questions, save your work in **both** *Notebook* and *PDF* formats\n",
    "    \n",
    "- Double-click on this cell\n",
    "- Enter your name in the above placeholder, and evaluate this cell to render it correctly\n",
    "- Evaluate all cells in the notebook by selecting the option **\"Run all\"** from the **Cell** menu.\n",
    "- Save your work by pressing <span class=\"fa-save fa\"/> button in the toolbar\n",
    "- Go to menu \"File\" -> \"Download as\"\n",
    "    - Select \"PDF via Latex (.pdf)\"\n",
    "    - Select \"Notebook (.ipynb)\"\n",
    "- Use downloaded files for Blackboard submission \n",
    "\n",
    "For more information, see https://www.codecademy.com/articles/how-to-use-jupyter-notebooks\n",
    "\n",
    "### Coding Style\n",
    "\n",
    "- Use functional F# style for writing your programs.\n",
    "- Make sure that you do not use mutable variables & loops.\n",
    "- Any imperative style programming is prohibited unless specified in the problem description.\n",
    "\n",
    "For additional information of F# coding style see [F# Style Guide](https://docs.microsoft.com/en-us/dotnet/fsharp/style-guide/).\n",
    "\n",
    "### Before You Submit\n",
    "\n",
    "You are required to test that your submission works properly before submission. Make sure that your program compiles without errors. Once you have verified that the submission is correct, you can submit your work.\n",
    "\n",
    "### Your Submission\n",
    "\n",
    "Program submissions should be done through the Blackboard.\n",
    "    "
   ]
  },
  {
   "cell_type": "markdown",
   "metadata": {},
   "source": [
    "<span style=\"color:red; font-size: large;\">DO NOT USE LOOPS AND CORE LIBRARY FUNCTIONS!!! ONLY RECURSION IS ALLOWED.</span>\n",
    "\n",
    "List of allowed functions:\n",
    "- `List.head`\n",
    "- `List.tail`\n",
    "- `List.isEmpty`\n",
    "- `::` operator\n",
    "\n",
    "Try to use pattern matching expressions as much as possible."
   ]
  },
  {
   "cell_type": "markdown",
   "metadata": {},
   "source": [
    "## Problems\n",
    "\n",
    "In this assignment, you will implement a binary tree data structure.\n",
    "\n",
    "The nodes of the binary tree are defined as a parametric **union** data type called `Tree` that composed of two subtypes: `Leaf` and `Node`.\n",
    "- The `Leaf` type has no values and its constructor has signature:\n",
    "    - `Leaf :: Tree<'a>`\n",
    "- The `Node` type designates a 3-tuple, composed of two tree nodes and a value, and its constructor has signature:\n",
    "    - `Node :: 'Tree<'a> * a * Tree<'a> -> Tree<'a>`\n",
    "    \n",
    "Trees of this type will contain a single piece of data of type a at each node, and **no data at their leaves**."
   ]
  },
  {
   "cell_type": "code",
   "execution_count": null,
   "metadata": {},
   "outputs": [],
   "source": [
    "type Tree<'a> =\n",
    "    | Node of Tree<'a> * 'a * Tree<'a>\n",
    "    | Leaf"
   ]
  },
  {
   "cell_type": "code",
   "execution_count": null,
   "metadata": {},
   "outputs": [],
   "source": [
    "let tree = \n",
    "    Node(\n",
    "        Node(Leaf, 2, Leaf),   // left branch: level 1\n",
    "        1,                     // value: level 1\n",
    "        Node(                  // right branch: level 1\n",
    "            Node(              // left branch: level 2\n",
    "                Leaf,          // left leaf: level 3\n",
    "                4,             // value: level 3 \n",
    "                Leaf           // right leaf: level 3\n",
    "                ), \n",
    "            3,                 // value: level 2\n",
    "            Leaf               // right leaf: level 2\n",
    "            )\n",
    "    )\n",
    "printfn \"%A\" tree"
   ]
  },
  {
   "cell_type": "markdown",
   "metadata": {},
   "source": [
    "### Problem 1 (10 pts)\n",
    "\n",
    "Define a function `mapT :: ('a -> 'b) -> Tree<'a> -> Tree<'b>` that operates on trees the same way that `List.map` operates on lists. In other words, `mapT` should take a function and apply it to every data item of type a within a tree of type `Tree<'a>`."
   ]
  },
  {
   "cell_type": "code",
   "execution_count": null,
   "metadata": {
    "scrolled": true
   },
   "outputs": [],
   "source": [
    "let rec mapT f t =\n",
    "    // write your solution here"
   ]
  },
  {
   "cell_type": "markdown",
   "metadata": {},
   "source": [
    "Test your function:"
   ]
  },
  {
   "cell_type": "code",
   "execution_count": null,
   "metadata": {},
   "outputs": [],
   "source": [
    "// see `tree` value above\n",
    "mapT (fun n -> n*n) tree |> printfn \"%A\""
   ]
  },
  {
   "cell_type": "markdown",
   "metadata": {},
   "source": [
    "### Problem 2 (10 pts)\n",
    "\n",
    "Define a function `foldT :: ('a -> 'b -> 'b -> 'b) -> 'b -> Tree<'a> -> b` that opeates on trees the same way that `List.fold` operates on lists. In other words, the base item of type `'b` should replace the `Leaf` constructor in the tree, and the function of type `'a -> 'b -> 'b -> 'b` should replace the `Node` constructor in the tree."
   ]
  },
  {
   "cell_type": "code",
   "execution_count": null,
   "metadata": {},
   "outputs": [],
   "source": [
    "let rec foldT f b t =\n",
    "    // write your solution here"
   ]
  },
  {
   "cell_type": "markdown",
   "metadata": {},
   "source": [
    "Test your function:"
   ]
  },
  {
   "cell_type": "code",
   "execution_count": null,
   "metadata": {},
   "outputs": [],
   "source": [
    "// see `tree` value above\n",
    "foldT (fun bv tv1 tv2 -> bv+tv1+tv2) 0 tree"
   ]
  },
  {
   "cell_type": "code",
   "execution_count": null,
   "metadata": {},
   "outputs": [],
   "source": [
    "foldT (fun bv tv1 tv2 -> \"(\"+tv1+\":\"+(string bv)+\":\"+tv2+\")\") \"*\" tree"
   ]
  },
  {
   "cell_type": "markdown",
   "metadata": {},
   "source": [
    "### Problem 3 (15 pts)\n",
    "\n",
    "1. Define a function `leafCount :: Tree<'a> -> int` that returns an integer representing the total number of leaves in a tree.\n",
    "    - To get full credit, you must use `foldT` and may define at most one helper function.\n",
    "\n",
    "2. Define a function `nodeCount :: Tree<'a> -> int` that returns an integer representing the total number of non-leaf nodes in a tree.\n",
    "    - To get full credit, you must use `foldT` and may define at most one helper function.\n",
    "\n",
    "3. Define a function `height :: Tree<'a> -> int` that returns an integer representing the height of the tree. Trees consisting of only a leaf have height 0.\n",
    "    - To get full credit, you must use `foldT` and may define at most one helper function."
   ]
  },
  {
   "cell_type": "code",
   "execution_count": null,
   "metadata": {},
   "outputs": [],
   "source": [
    "let leafCount t =\n",
    "    // write your solution here"
   ]
  },
  {
   "cell_type": "code",
   "execution_count": null,
   "metadata": {},
   "outputs": [],
   "source": [
    "let nodeCount t =\n",
    "    // write your solution here"
   ]
  },
  {
   "cell_type": "code",
   "execution_count": null,
   "metadata": {},
   "outputs": [],
   "source": [
    "let height t =\n",
    "    // write your solution here"
   ]
  },
  {
   "cell_type": "markdown",
   "metadata": {},
   "source": [
    "Test your function:"
   ]
  },
  {
   "cell_type": "code",
   "execution_count": null,
   "metadata": {},
   "outputs": [],
   "source": [
    "leafCount Leaf // 1"
   ]
  },
  {
   "cell_type": "code",
   "execution_count": null,
   "metadata": {},
   "outputs": [],
   "source": [
    "leafCount tree // 5"
   ]
  },
  {
   "cell_type": "code",
   "execution_count": null,
   "metadata": {},
   "outputs": [],
   "source": [
    "nodeCount Leaf // 0"
   ]
  },
  {
   "cell_type": "code",
   "execution_count": null,
   "metadata": {},
   "outputs": [],
   "source": [
    "nodeCount tree // 4"
   ]
  },
  {
   "cell_type": "code",
   "execution_count": null,
   "metadata": {},
   "outputs": [],
   "source": [
    "height Leaf // 0"
   ]
  },
  {
   "cell_type": "code",
   "execution_count": null,
   "metadata": {},
   "outputs": [],
   "source": [
    "height tree // 3"
   ]
  },
  {
   "cell_type": "markdown",
   "metadata": {},
   "source": [
    "### Problem 4 (20 pts)\n",
    "\n",
    "1. A tree is **perfect** if all the leaves of the tree are at the same depth.\n",
    "   - Define a function `perfect :: Tree<'a> -> bool` that returns `true` if the tree supplied is perfect and `false` otherwise.\n",
    "   - You may use any approach to implement this function.\n",
    "\n",
    "2. A tree is a **degenerate** if all the nodes are arranged in a single path. Equivalently, a tree is degenerate if all nodes have at least one leaf child.\n",
    "   - Define a function `degenerate :: Tree<'a> -> bool` that returns `true` if and only if the tree supplied is degenerate and `false` otherwise.   "
   ]
  },
  {
   "cell_type": "code",
   "execution_count": null,
   "metadata": {},
   "outputs": [],
   "source": [
    "let rec perfect t =\n",
    "    // write your solution here   "
   ]
  },
  {
   "cell_type": "markdown",
   "metadata": {},
   "source": [
    "Test your function:"
   ]
  },
  {
   "cell_type": "code",
   "execution_count": null,
   "metadata": {},
   "outputs": [],
   "source": [
    "perfect Leaf // true"
   ]
  },
  {
   "cell_type": "code",
   "execution_count": null,
   "metadata": {},
   "outputs": [],
   "source": [
    "perfect (Node(Leaf,1,Leaf)) // true"
   ]
  },
  {
   "cell_type": "code",
   "execution_count": null,
   "metadata": {},
   "outputs": [],
   "source": [
    "perfect (Node(Node(Leaf,2,Leaf),1,Leaf)) // false"
   ]
  },
  {
   "cell_type": "code",
   "execution_count": null,
   "metadata": {},
   "outputs": [],
   "source": [
    "perfect (Node(Node(Leaf,2,Leaf),1,Node(Leaf,3,Leaf))) // true"
   ]
  },
  {
   "cell_type": "code",
   "execution_count": null,
   "metadata": {},
   "outputs": [],
   "source": [
    "perfect (Node(Node(Node(Leaf,4,Leaf),2,Node(Leaf,3,Leaf)),1,Leaf)) // false"
   ]
  },
  {
   "cell_type": "code",
   "execution_count": null,
   "metadata": {},
   "outputs": [],
   "source": [
    "perfect (Node(Node(Node(Leaf,4,Leaf),2,Leaf),1,Node(Node(Leaf,6,Leaf),5,Node(Leaf,7,Leaf)))) // false"
   ]
  },
  {
   "cell_type": "code",
   "execution_count": null,
   "metadata": {},
   "outputs": [],
   "source": [
    "perfect (Node(Node(Node(Leaf,4,Leaf),2,Node(Leaf,3,Leaf)), 1, // true\n",
    "             Node(Node(Leaf,6,Leaf),5,Node(Leaf,7,Leaf))))"
   ]
  },
  {
   "cell_type": "code",
   "execution_count": null,
   "metadata": {},
   "outputs": [],
   "source": [
    "let rec degenerate t = \n",
    "    // write your solution here"
   ]
  },
  {
   "cell_type": "markdown",
   "metadata": {},
   "source": [
    "Test your function:"
   ]
  },
  {
   "cell_type": "code",
   "execution_count": null,
   "metadata": {},
   "outputs": [],
   "source": [
    "degenerate Leaf // true"
   ]
  },
  {
   "cell_type": "code",
   "execution_count": null,
   "metadata": {},
   "outputs": [],
   "source": [
    "degenerate (Node(Leaf,1,Leaf)) // true"
   ]
  },
  {
   "cell_type": "code",
   "execution_count": null,
   "metadata": {},
   "outputs": [],
   "source": [
    "degenerate (Node(Node(Leaf,2,Leaf),1,Leaf)) // true"
   ]
  },
  {
   "cell_type": "code",
   "execution_count": null,
   "metadata": {},
   "outputs": [],
   "source": [
    "degenerate (Node(Node(Leaf,2,Leaf),1,Node(Leaf,3,Leaf))) // false"
   ]
  },
  {
   "cell_type": "code",
   "execution_count": null,
   "metadata": {},
   "outputs": [],
   "source": [
    "degenerate (Node(Node(Leaf,2,Node(Leaf,3,Leaf)),1,Leaf)) // true"
   ]
  },
  {
   "cell_type": "code",
   "execution_count": null,
   "metadata": {},
   "outputs": [],
   "source": [
    "degenerate (Node(Node(Node(Leaf,4,Leaf),2,Node(Leaf,3,Leaf)),1,Leaf)) // false"
   ]
  },
  {
   "cell_type": "code",
   "execution_count": null,
   "metadata": {},
   "outputs": [],
   "source": [
    "degenerate (Node(Node(Leaf,2,Node(Node(Leaf,4,Leaf),3,Leaf)),1,Leaf)) // true"
   ]
  },
  {
   "cell_type": "code",
   "execution_count": null,
   "metadata": {},
   "outputs": [],
   "source": [
    "degenerate (Node(Leaf,1,Node(Node(Leaf,5,Leaf),2,Node(Node(Leaf,4,Leaf),3,Leaf)))) // false"
   ]
  },
  {
   "cell_type": "markdown",
   "metadata": {},
   "source": [
    "### Bonus (10 pts)\n",
    "\n",
    "Define a function `list :: Tree<'a> -> 'a option`. If the supplied tree is degenerate, the function should return `Some l`, where `l` corresponds to a list constructed by replacing the `Node` constructors with `::` constructors and the `Leaf` constructors have been replaced with the `[]` constructor where appropriate. If the supplied tree is not degenerate, the function should return `None`. You are encouraged to use degenerate and `foldT` to implement this function.\n",
    "\n",
    "- **Hint:** Do not make your use of `foldT` more complicated than necessary. Do you need to check that the tree is degenerate more than once? Use your `nodeCount` implementation as a guide."
   ]
  },
  {
   "cell_type": "code",
   "execution_count": null,
   "metadata": {},
   "outputs": [],
   "source": [
    "let list t = \n",
    "    // write your solution here"
   ]
  },
  {
   "cell_type": "markdown",
   "metadata": {},
   "source": [
    "Test your function:"
   ]
  },
  {
   "cell_type": "code",
   "execution_count": null,
   "metadata": {},
   "outputs": [],
   "source": [
    "list (Node(Node(Leaf,2,Node(Node(Leaf,4,Leaf),3,Leaf)),1,Leaf)) // Some [1; 2; 3; 4]"
   ]
  },
  {
   "cell_type": "code",
   "execution_count": null,
   "metadata": {},
   "outputs": [],
   "source": [
    "list (Node(Leaf,1,Node(Node(Leaf,5,Leaf),2,Node(Node(Leaf,4,Leaf),3,Leaf)))) // None"
   ]
  },
  {
   "cell_type": "code",
   "execution_count": null,
   "metadata": {},
   "outputs": [],
   "source": [
    "list (Node(Node(Leaf,2,Node(Leaf,3,Leaf)),10,Leaf)) // Some [10; 2; 3]"
   ]
  }
 ],
 "metadata": {
  "kernelspec": {
   "display_name": ".NET (F#)",
   "language": "F#",
   "name": ".net-fsharp"
  },
  "language_info": {
   "file_extension": ".fs",
   "mimetype": "text/x-fsharp",
   "name": "C#",
   "pygments_lexer": "fsharp",
   "version": "4.5"
  }
 },
 "nbformat": 4,
 "nbformat_minor": 4
}
